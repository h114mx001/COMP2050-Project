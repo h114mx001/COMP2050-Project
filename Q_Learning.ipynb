{
 "cells": [
  {
   "cell_type": "code",
   "execution_count": 311,
   "metadata": {},
   "outputs": [],
   "source": [
    "import numpy as np\n",
    "import random\n",
    "import matplotlib.pyplot as plt\n",
    "%matplotlib inline  "
   ]
  },
  {
   "cell_type": "code",
   "execution_count": 312,
   "metadata": {},
   "outputs": [],
   "source": [
    "# Set up the board for Connect 4\n",
    "rows = 6\n",
    "columns = 7\n",
    "M = np.zeros((rows, columns))"
   ]
  },
  {
   "cell_type": "code",
   "execution_count": 313,
   "metadata": {},
   "outputs": [],
   "source": [
    "# Define the set of actions, agent states, and the Q table\n",
    "A = np.array([0, 1, 2, 3, 4, 5, 6])\n",
    "S = []\n",
    "for i in range(0, rows * columns):\n",
    "    S.append(i)\n",
    "S = np.array(S)\n",
    "\n",
    "# Initialize the Q tables\n",
    "Q1 = np.zeros((S.shape[0], A.shape[0]))\n",
    "Q2 = np.zeros((S.shape[0], A.shape[0]))\n"
   ]
  },
  {
   "cell_type": "code",
   "execution_count": 314,
   "metadata": {},
   "outputs": [],
   "source": [
    "def create_board_states(num_rows, num_columns):\n",
    "    \"\"\"\n",
    "    Create all possible board states for a Connect 4 game given the number of rows and columns.\n",
    "    \n",
    "    Args:\n",
    "        num_rows (int): Number of rows on the game board.\n",
    "        num_columns (int): Number of columns on the game board.\n",
    "        \n",
    "    Returns:\n",
    "        board_states (list): List containing all (x, y) coordinates of the board states in row-major order.\n",
    "    \"\"\"\n",
    "    board_states = []\n",
    "    \n",
    "    # Generate board states by iterating over each (x, y) coordinate\n",
    "    for y in range(num_rows):\n",
    "        for x in range(num_columns):\n",
    "            board_states.append((x, y))\n",
    "    \n",
    "    return board_states\n",
    "\n",
    "board_state = create_board_states(rows, columns)"
   ]
  },
  {
   "cell_type": "code",
   "execution_count": 315,
   "metadata": {},
   "outputs": [],
   "source": [
    "def get_coordinates_from_agent_state(agent_state, board_states):\n",
    "    \"\"\"\n",
    "    Get the coordinates (x, y) corresponding to the given agent state.\n",
    "    \"\"\"\n",
    "    coordinates = board_states[agent_state]\n",
    "    return coordinates\n",
    "\n",
    "def get_agent_state_from_coordinates(x, y, board_states):\n",
    "    \"\"\"\n",
    "    Get the agent state corresponding to the given coordinates (x, y).\n",
    "    \"\"\"\n",
    "    agent_state = board_states.index((x, y))\n",
    "    return agent_state\n"
   ]
  },
  {
   "cell_type": "code",
   "execution_count": 316,
   "metadata": {},
   "outputs": [],
   "source": [
    "def compute_new_state(action, board, board_states):\n",
    "    \"\"\"\n",
    "    Compute the new state resulting from an action and the current board state.\n",
    "    \"\"\"\n",
    "    row = 0\n",
    "    col = action\n",
    "\n",
    "    # Check if the chosen column is already filled\n",
    "    if board[row, col] != 0:\n",
    "        return -1, col, row\n",
    "\n",
    "    # Simulate gravity: the token falls to the lowest available position in the chosen column\n",
    "    while row < board.shape[0] and board[row, col] == 0:\n",
    "        row += 1\n",
    "\n",
    "    # Adjust the row if the token falls onto an occupied cell\n",
    "    if row > 0:\n",
    "        row -= 1\n",
    "\n",
    "    # Compute the new agent state based on the updated coordinates\n",
    "    new_agent_state = get_agent_state_from_coordinates(col, row, board_states)\n",
    "    return new_agent_state, col, row\n"
   ]
  },
  {
   "cell_type": "code",
   "execution_count": 317,
   "metadata": {},
   "outputs": [],
   "source": [
    "def check_for_winner(board, player_id):\n",
    "    \"\"\"\n",
    "    Check if a board represents a winning game for the given player.\n",
    "    \"\"\"\n",
    "    num_columns = board.shape[1]\n",
    "    num_rows = board.shape[0]\n",
    "\n",
    "    # Check horizontal locations for win\n",
    "    for col in range(num_columns - 3):\n",
    "        for row in range(num_rows):\n",
    "            if (\n",
    "                board[row][col] == player_id\n",
    "                and board[row][col + 1] == player_id\n",
    "                and board[row][col + 2] == player_id\n",
    "                and board[row][col + 3] == player_id\n",
    "            ):\n",
    "                return True\n",
    "\n",
    "    # Check vertical locations for win\n",
    "    for col in range(num_columns):\n",
    "        for row in range(num_rows - 3):\n",
    "            if (\n",
    "                board[row][col] == player_id\n",
    "                and board[row + 1][col] == player_id\n",
    "                and board[row + 2][col] == player_id\n",
    "                and board[row + 3][col] == player_id\n",
    "            ):\n",
    "                return True\n",
    "\n",
    "    # Check positively sloped diagonals\n",
    "    for col in range(num_columns - 3):\n",
    "        for row in range(num_rows - 3):\n",
    "            if (\n",
    "                board[row][col] == player_id\n",
    "                and board[row + 1][col + 1] == player_id\n",
    "                and board[row + 2][col + 2] == player_id\n",
    "                and board[row + 3][col + 3] == player_id\n",
    "            ):\n",
    "                return True\n",
    "\n",
    "    # Check negatively sloped diagonals\n",
    "    for col in range(num_columns - 3):\n",
    "        for row in range(3, num_rows):\n",
    "            if (\n",
    "                board[row][col] == player_id\n",
    "                and board[row - 1][col + 1] == player_id\n",
    "                and board[row - 2][col + 2] == player_id\n",
    "                and board[row - 3][col + 3] == player_id\n",
    "            ):\n",
    "                return True\n",
    "\n",
    "    return False\n",
    "\n",
    "def check_if_winning_game(board, player_id):\n",
    "    \"\"\"\n",
    "    Check if the given player has won the game.\n",
    "    \"\"\"\n",
    "    winner_id = check_for_winner(board, player_id)\n",
    "    return winner_id\n"
   ]
  },
  {
   "cell_type": "code",
   "execution_count": 318,
   "metadata": {},
   "outputs": [],
   "source": [
    "def step(action, agent_state, board, player_id, board_state):\n",
    "    \"\"\"\n",
    "    Take an action in the game.\n",
    "    \"\"\"\n",
    "    done = False\n",
    "    reward = 0\n",
    "\n",
    "    new_agent_state, x_new, y_new = compute_new_state(action, board, board_state)\n",
    "\n",
    "    if new_agent_state == -1:  # Check if it's possible to move to the new state\n",
    "        done = True\n",
    "        reward = -1\n",
    "        return agent_state, reward, done\n",
    "\n",
    "    board[y_new, x_new] = player_id  # Place the token in the new empty slot\n",
    "\n",
    "    win = check_if_winning_game(board, player_id)  # Check if the player has won the game\n",
    "\n",
    "    if win:\n",
    "        reward = 1\n",
    "        done = True\n",
    "\n",
    "    return new_agent_state, reward, done\n"
   ]
  },
  {
   "cell_type": "code",
   "execution_count": 319,
   "metadata": {},
   "outputs": [],
   "source": [
    "M = np.zeros((rows, columns))\n",
    "state = 0  \n",
    "done = False\n",
    "image_list = []  \n",
    "step_counter = 0\n",
    "idplayer = 1\n",
    "\n",
    "while not done:  # Move until we reach the end of the game\n",
    "    action = random.choice(A)  # Choose a random action\n",
    "    new_state, reward, done = step(action, state, M, idplayer, board_state)  # Move according to the action\n",
    "    state = new_state  # Update the state\n",
    "    step_counter += 1 \n",
    "    idplayer = (idplayer % 2) + 1  # Cycle between player IDs 1 and 2\n",
    "\n",
    "    if idplayer == 1:\n",
    "        idplayer = 2"
   ]
  },
  {
   "cell_type": "code",
   "execution_count": 320,
   "metadata": {},
   "outputs": [],
   "source": [
    "def choose_action_from_policy(action_space, epsilon, Q_values, state):\n",
    "    \"\"\"\n",
    "    Choose an action from the epsilon-greedy policy based on the Q-values.\n",
    "    \"\"\"\n",
    "    if random.random() < epsilon:\n",
    "        action = random.choice(action_space)\n",
    "    else:\n",
    "        action = np.argmax(Q_values[state, :])\n",
    "\n",
    "    return action\n"
   ]
  },
  {
   "cell_type": "code",
   "execution_count": 321,
   "metadata": {},
   "outputs": [],
   "source": [
    "def update_qvalues(Q, state, action, new_state, reward, alpha, gamma):\n",
    "    \"\"\"\n",
    "    Update the Q-value for a state-action pair using the Q-learning algorithm.\n",
    "    \"\"\"\n",
    "    first_term = (1 - alpha) * Q[state, action]\n",
    "    second_term = gamma * np.max(Q[new_state, :])\n",
    "    third_term = alpha * (reward + second_term)\n",
    "    res = first_term + third_term\n",
    "    Q[state, action] = res\n"
   ]
  },
  {
   "cell_type": "code",
   "execution_count": 322,
   "metadata": {},
   "outputs": [],
   "source": [
    "def one_game_learning(actions, Q1, Q2, board, epsilon1, epsilon2, alpha, gamma, list_images, t):    \n",
    "    state = 0\n",
    "    done = False\n",
    "    total_rewards = 0\n",
    "    while not done:  # Move until a player loses\n",
    "        \n",
    "        # Player 1 plays first\n",
    "        action1 = choose_action_from_policy(actions, epsilon1, Q1, state)  # Choose an action\n",
    "        new_state1, reward1, end1 = step(action1, state, board, 1, board_state)  # Move according to the action\n",
    "        \n",
    "        # Update Q1\n",
    "        update_qvalues(Q1, state, action1, new_state1, reward1, alpha, gamma)\n",
    "        total_rewards += Q1[state, action1]\n",
    "        # Player 1 has won\n",
    "        if end1 and reward1 > 0:\n",
    "            return 1, total_rewards\n",
    "        \n",
    "        # Bad move from Player 1, so Player 2 has won\n",
    "        if end1 and reward1 == -1:\n",
    "            return 2, total_rewards\n",
    "        \n",
    "        # Player 2 plays\n",
    "        action2 = choose_action_from_policy(actions, epsilon2, Q2, new_state1)  # Choose an action\n",
    "        new_state2, reward2, end2 = step(action2, new_state1, board, 2, board_state)  # Move according to the action\n",
    "        \n",
    "        # Update Q2\n",
    "        update_qvalues(Q2, new_state1, action2, new_state2, reward2, alpha, gamma)\n",
    "        \n",
    "        # Player 2 has won\n",
    "        if end2 and reward2 > 0:\n",
    "            return 2, total_rewards\n",
    "        \n",
    "        # Bad move from Player 2, so Player 1 has won\n",
    "        if end2 and reward2 == -1:\n",
    "            return 1, total_rewards\n",
    "        \n",
    "        state = new_state2\n",
    "    \n",
    "    return 0, total_rewards"
   ]
  },
  {
   "cell_type": "code",
   "execution_count": 323,
   "metadata": {},
   "outputs": [
    {
     "name": "stdout",
     "output_type": "stream",
     "text": [
      "Percentage of winning games for player one: 59.650000000000006\n"
     ]
    },
    {
     "data": {
      "text/plain": [
       "<matplotlib.colorbar.Colorbar at 0x2223846c1f0>"
      ]
     },
     "execution_count": 323,
     "metadata": {},
     "output_type": "execute_result"
    },
    {
     "data": {
      "image/png": "[encoded data removed]",
      "text/plain": [
       "<Figure size 432x288 with 4 Axes>"
      ]
     },
     "metadata": {
      "needs_background": "light"
     },
     "output_type": "display_data"
    }
   ],
   "source": [
    "\"\"\" Run 10,000 games for the Q-table\"\"\"\n",
    "# Set up the board for Connect 4\n",
    "M = np.zeros((rows, columns))\n",
    "\n",
    "fig, axarr = plt.subplots(1, 3)\n",
    "list_images = []  \n",
    "q_values_history = []\n",
    "\n",
    "axarr[0].grid(which='both')\n",
    "axarr[1].grid(which='both')\n",
    "axarr[2].grid(which='both')\n",
    "\n",
    "# Q-learning running\n",
    "Q1 = np.zeros((S.shape[0], A.shape[0]))\n",
    "Q2 = np.zeros((S.shape[0], A.shape[0]))\n",
    "board_state = create_board_states(rows, columns)\n",
    "rewards = 0\n",
    "# Define hyperparameters\n",
    "alpha = 0.01  \n",
    "gamma = 0.9  \n",
    "epsilon1 = 0.3  # Probability of exploration for Player 1\n",
    "epsilon2 = 1  # Probability of exploration for Player 2 (random player)\n",
    "num_games = 10000 \n",
    "\n",
    "stats_num_player_one_wins = 0\n",
    "\n",
    "for t in range(num_games):\n",
    "    M = np.zeros((rows, columns))\n",
    "    player_one_wins, rewards = one_game_learning(A, Q1, Q2, M, epsilon1, epsilon2, alpha, gamma, list_images, t)\n",
    "    \n",
    "    if player_one_wins == 1:\n",
    "        stats_num_player_one_wins += 1\n",
    "    \n",
    "stats_num_player_one_wins /= float(num_games)\n",
    "stats_num_player_one_wins *= 100\n",
    "\n",
    "print(\"Percentage of winning games for player one: \" + str(stats_num_player_one_wins))\n",
    "\n",
    "ttl = plt.text(3, 43, \n",
    "    \"Board                               Qtable-Player 1                        Qtable-Player 2\" +\n",
    "    \"\\nAction player \" + str(-1) + \"=\" + str(-1) + \" and State =\" + str(-1) + \"\\n\" +\n",
    "    \"| Number of games=\" + str(num_games) + \"\\n\" + \"| epsilon=\" + \"{:.2f}\".format(-1),                       \n",
    "    horizontalalignment='right', verticalalignment='top', fontsize=\"small\")\n",
    "im1 = axarr[0].matshow(M, animated=True)\n",
    "im2 = axarr[1].matshow(Q1, animated=True)\n",
    "im3 = axarr[2].matshow(Q2, animated=True)\n",
    "list_images.append([im1, im2, im3, ttl])\n",
    "fig.colorbar(im3, ax=axarr[2])\n",
    "\n"
   ]
  },
  {
   "cell_type": "code",
   "execution_count": 324,
   "metadata": {},
   "outputs": [
    {
     "name": "stdout",
     "output_type": "stream",
     "text": [
      "Percentage of winning games for player one: 62.019999999999996\n"
     ]
    }
   ],
   "source": [
    "list_images = []\n",
    "alpha = 0.01\n",
    "gamma = 0.9\n",
    "epsilon1 = 0\n",
    "epsilon2 = 1\n",
    "num_games = 10000\n",
    "total_rewards = 0\n",
    "reward_history = []\n",
    "\n",
    "stats_num_player_one_wins = 0\n",
    "\n",
    "for t in range(num_games):\n",
    "    M = np.zeros((rows, columns))\n",
    "    player_one_wins, total_rewards = one_game_learning(A, Q1.copy(), Q2.copy(), M, epsilon1, epsilon2, alpha, gamma, list_images, t)\n",
    "    reward_history.append(total_rewards)\n",
    "    if player_one_wins == 1:\n",
    "        stats_num_player_one_wins += 1\n",
    "\n",
    "stats_num_player_one_wins /= float(num_games)\n",
    "stats_num_player_one_wins *= 100\n",
    "\n",
    "print(\"Percentage of winning games for player one: \" + str(stats_num_player_one_wins))\n"
   ]
  },
  {
   "cell_type": "code",
   "execution_count": 327,
   "metadata": {},
   "outputs": [
    {
     "data": {
      "image/png": "[encoded data removed]",
      "text/plain": [
       "<Figure size 432x288 with 1 Axes>"
      ]
     },
     "metadata": {
      "needs_background": "light"
     },
     "output_type": "display_data"
    }
   ],
   "source": [
    "# Plotting the change in Q-value after each episode\n",
    "plt.plot(reward_history)\n",
    "plt.xlabel('Episode')\n",
    "plt.ylabel('Accumulated Reward')\n",
    "plt.title('Q-Learning Agent Performance')\n",
    "plt.show()"
   ]
  }
 ],
 "metadata": {
  "kernelspec": {
   "display_name": "Python 3",
   "language": "python",
   "name": "python3"
  },
  "language_info": {
   "codemirror_mode": {
    "name": "ipython",
    "version": 3
   },
   "file_extension": ".py",
   "mimetype": "text/x-python",
   "name": "python",
   "nbconvert_exporter": "python",
   "pygments_lexer": "ipython3",
   "version": "3.10.0"
  },
  "orig_nbformat": 4
 },
 "nbformat": 4,
 "nbformat_minor": 2
}
